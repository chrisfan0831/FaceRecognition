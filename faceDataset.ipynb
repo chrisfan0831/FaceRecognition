{
 "cells": [
  {
   "cell_type": "code",
   "execution_count": 1,
   "metadata": {},
   "outputs": [],
   "source": [
    "import numpy as np\n",
    "import cv2\n",
    "import os\n",
    "import csv\n",
    "import glob\n",
    "import pandas as pd"
   ]
  },
  {
   "cell_type": "code",
   "execution_count": 2,
   "metadata": {},
   "outputs": [],
   "source": [
    "##############ATTENTION###############\n",
    "#user list and user datas\n",
    "#run to clean all and restart\n",
    "#####################################\n",
    "userList = []\n",
    "\n",
    "face_files = glob.glob('dataset/*.jpg')\n",
    "temp_files = glob.glob('Temperature Recordings/*.txt')\n",
    "for face in face_files:\n",
    "    os.remove(face)\n",
    "for temp in temp_files:\n",
    "    os.remove(temp)"
   ]
  },
  {
   "cell_type": "code",
   "execution_count": 3,
   "metadata": {},
   "outputs": [
    {
     "name": "stdout",
     "output_type": "stream",
     "text": [
      "\n",
      " Enter your name (First Last) and press <return>: Chris\n",
      "\n",
      " Capturing your face (ID: 0). Look the camera and wait ...\n",
      "\n",
      " Done capturing and exited\n"
     ]
    }
   ],
   "source": [
    "cam = cv2.VideoCapture(0)\n",
    "cam.set(3, 640) # set video width\n",
    "cam.set(4, 480) # set video height\n",
    "\n",
    "face_detector = cv2.CascadeClassifier('haarcascade_frontalface_default.xml')\n",
    "\n",
    "# For each person, enter your name\n",
    "name = input('\\n Enter your name (First Last) and press <return>: ')\n",
    "\n",
    "if name in userList:\n",
    "    userID = userList.index(name)\n",
    "    print(\"\\n Face Found, No need to capture. Your ID: \" + str(userID))\n",
    "else:\n",
    "    userList.append(name)\n",
    "    userID = userList.index(name)\n",
    "    print(\"\\n Capturing your face (ID: \" + str(userID) + \")\" + \". Look the camera and wait ...\")\n",
    "\n",
    "    f= open('Temperature Recordings/' + name + '.txt', \"w+\")\n",
    "    f.close()\n",
    "    \n",
    "    count = 0 #count the number of captured image\n",
    "    while(True):\n",
    "        ret, img = cam.read()\n",
    "    #     img = cv2.flip(img, -1) # flip video image vertically\n",
    "        gray = cv2.cvtColor(img, cv2.COLOR_BGR2GRAY)\n",
    "        faces = face_detector.detectMultiScale(gray, 1.3, 5)\n",
    "\n",
    "        for (x,y,w,h) in faces:\n",
    "\n",
    "            cv2.rectangle(img, (x,y), (x+w,y+h), (255,0,0), 2)     \n",
    "            count += 1\n",
    "\n",
    "            # Save the captured image into the datasets folder\n",
    "            cv2.imwrite(\"dataset/User.\" + str(userID) + '.' + str(count) + \".jpg\", gray[y:y+h,x:x+w])\n",
    "\n",
    "            cv2.imshow('image', img)\n",
    "\n",
    "        k = cv2.waitKey(100) & 0xff # Press 'ESC' for exiting video\n",
    "        if k == 27:\n",
    "            break\n",
    "        elif count >= 30: # Take 30 face sample and stop video\n",
    "             break\n",
    "\n",
    "# Do a bit of cleanup\n",
    "print(\"\\n Done capturing and exited\")\n",
    "cam.release()\n",
    "cv2.destroyAllWindows()"
   ]
  },
  {
   "cell_type": "code",
   "execution_count": 4,
   "metadata": {},
   "outputs": [
    {
     "data": {
      "text/plain": [
       "['Chris']"
      ]
     },
     "execution_count": 4,
     "metadata": {},
     "output_type": "execute_result"
    }
   ],
   "source": [
    "userList"
   ]
  },
  {
   "cell_type": "code",
   "execution_count": null,
   "metadata": {},
   "outputs": [],
   "source": []
  }
 ],
 "metadata": {
  "kernelspec": {
   "display_name": "Python 3",
   "language": "python",
   "name": "python3"
  },
  "language_info": {
   "codemirror_mode": {
    "name": "ipython",
    "version": 3
   },
   "file_extension": ".py",
   "mimetype": "text/x-python",
   "name": "python",
   "nbconvert_exporter": "python",
   "pygments_lexer": "ipython3",
   "version": "3.8.3"
  },
  "toc": {
   "base_numbering": 1,
   "nav_menu": {},
   "number_sections": true,
   "sideBar": true,
   "skip_h1_title": false,
   "title_cell": "Table of Contents",
   "title_sidebar": "Contents",
   "toc_cell": false,
   "toc_position": {},
   "toc_section_display": true,
   "toc_window_display": false
  }
 },
 "nbformat": 4,
 "nbformat_minor": 4
}
