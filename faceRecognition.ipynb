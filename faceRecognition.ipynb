{
 "cells": [
  {
   "cell_type": "code",
   "execution_count": 10,
   "metadata": {},
   "outputs": [],
   "source": [
    "import cv2\n",
    "import numpy as np\n",
    "import os \n",
    "import glob\n",
    "from datetime import date, datetime\n",
    "from recogFunc import read"
   ]
  },
  {
   "cell_type": "code",
   "execution_count": 24,
   "metadata": {},
   "outputs": [
    {
     "name": "stdout",
     "output_type": "stream",
     "text": [
      "\n",
      " Exiting Program, temperature recorded\n"
     ]
    }
   ],
   "source": [
    "recognizer = cv2.face.LBPHFaceRecognizer_create()\n",
    "recognizer.read('trainer/trainer.yml')\n",
    "cascadePath = \"haarcascade_frontalface_default.xml\"\n",
    "faceCascade = cv2.CascadeClassifier(cascadePath);\n",
    "font = cv2.FONT_HERSHEY_SIMPLEX\n",
    "# Initialize and start realtime video capture\n",
    "cam = cv2.VideoCapture(0)\n",
    "cam.set(3, 640) # set video widht\n",
    "cam.set(4, 480) # set video height\n",
    "# Define min window size to be recognized as a face\n",
    "minW = 0.1*cam.get(3)\n",
    "minH = 0.1*cam.get(4)\n",
    "\n",
    "id = 0 #initialize userID \n",
    "UserNames = read('names.csv') #userList readed by read()\n",
    "currTemp = [] #current person's temperature\n",
    "currName = '' #current person's name\n",
    "        \n",
    "#need a getTemp() function that read temperature\n",
    "#get temp called in the while loop\n",
    "temp = 37; #temp = getTemp()\n",
    "\n",
    "while True:\n",
    "    ret, img =cam.read()\n",
    "    gray = cv2.cvtColor(img,cv2.COLOR_BGR2GRAY)\n",
    "    faces = faceCascade.detectMultiScale( \n",
    "        gray,\n",
    "        scaleFactor = 1.2,\n",
    "        minNeighbors = 5,\n",
    "        minSize = (int(minW), int(minH)))\n",
    "    #when detect the face\n",
    "#     if len(faces) != 0:\n",
    "#         temp = getTemp()\n",
    "    #show name and temp on the face rect\n",
    "    for(x,y,w,h) in faces:\n",
    "        cv2.rectangle(img, (x,y), (x+w,y+h), (0,255,0), 2) #face area\n",
    "        id, loss = recognizer.predict(gray[y:y+h,x:x+w]) #compute face id and loss\n",
    "        # Check if loss of prediction, 0 is perfect match \n",
    "        if (loss < 100):\n",
    "            currName = UserNames[id]\n",
    "            confidence = \"  {0}%\".format(round(100 - loss))\n",
    "        else:\n",
    "            currName = \"unknown\"\n",
    "            confidence = \"  {0}%\".format(round(100 - loss))\n",
    "        #name of the face\n",
    "        cv2.putText(img, str(currName), (x+5,y-5), font, 1, (255,255,255), 2)\n",
    "        cv2.putText(img, 'temp:', (x+5,y+h-5), font, 1, (255,255,255), 2) \n",
    "        #show temp, red if over 38, blue when normal\n",
    "        if temp >= 38:\n",
    "            cv2.putText(img, str(temp), (x+95,y+h-5), font, 1, (0,0,255), 2)  \n",
    "        else:\n",
    "            cv2.putText(img, str(temp), (x+95,y+h-5), font, 1, (255,0,0), 2)      \n",
    "        \n",
    "    cv2.imshow('camera',img) \n",
    "    k = cv2.waitKey(10) & 0xff # Press 'ESC' for exiting video\n",
    "    if k == 27:\n",
    "        break            \n",
    "    #write temp and date to the this person's temperature file\n",
    "    if currName != 'unknown':\n",
    "        currTemp.append(temp)\n",
    "    if len(faces) == 0: #when the face is out of camera\n",
    "        if len(currTemp) != 0:\n",
    "            temp = np.amax(currTemp)\n",
    "            now = datetime.now()\n",
    "            dt= now.strftime(\"%d/%m/%Y %H:%M:%S\") #get datetime\n",
    "            f = open('Temperature Recordings/' + UserNames[id] + '.txt', \"a\")\n",
    "            f.write(str(temp) + ' at ' + dt + '\\n')\n",
    "            f.close()\n",
    "            currTemp = []\n",
    "            currName = 'unknown'\n",
    "            \n",
    "print(\"\\n Exiting Program, temperature recorded\")\n",
    "cam.release()\n",
    "cv2.destroyAllWindows()"
   ]
  },
  {
   "cell_type": "code",
   "execution_count": 13,
   "metadata": {},
   "outputs": [],
   "source": [
    "temp_files = glob.glob('Temperature Recordings/*.txt')\n",
    "for temp in temp_files:\n",
    "        os.remove(temp)"
   ]
  },
  {
   "cell_type": "code",
   "execution_count": null,
   "metadata": {},
   "outputs": [],
   "source": []
  }
 ],
 "metadata": {
  "kernelspec": {
   "display_name": "Python 3",
   "language": "python",
   "name": "python3"
  },
  "language_info": {
   "codemirror_mode": {
    "name": "ipython",
    "version": 3
   },
   "file_extension": ".py",
   "mimetype": "text/x-python",
   "name": "python",
   "nbconvert_exporter": "python",
   "pygments_lexer": "ipython3",
   "version": "3.8.3"
  },
  "toc": {
   "base_numbering": 1,
   "nav_menu": {},
   "number_sections": true,
   "sideBar": true,
   "skip_h1_title": false,
   "title_cell": "Table of Contents",
   "title_sidebar": "Contents",
   "toc_cell": false,
   "toc_position": {},
   "toc_section_display": true,
   "toc_window_display": false
  }
 },
 "nbformat": 4,
 "nbformat_minor": 4
}
