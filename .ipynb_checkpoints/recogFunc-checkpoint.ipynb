{
 "cells": [
  {
   "cell_type": "code",
   "execution_count": 4,
   "metadata": {},
   "outputs": [],
   "source": [
    "import numpy as np\n",
    "import cv2\n",
    "import os\n",
    "import csv\n",
    "import glob\n",
    "import pandas as pd\n",
    "from PIL import Image\n",
    "from datetime import date, datetime"
   ]
  },
  {
   "cell_type": "code",
   "execution_count": 96,
   "metadata": {
    "code_folding": [
     1
    ]
   },
   "outputs": [],
   "source": [
    "#read in the names from a csv\n",
    "def read(path):\n",
    "    userList = []\n",
    "    with open(path, newline='') as f:\n",
    "        reader = csv.reader(f)\n",
    "        names = list(reader)\n",
    "        for i in range(len(names)):\n",
    "            userList.append(names[i][0])\n",
    "#         userList = list(reader)\n",
    "    return userList"
   ]
  },
  {
   "cell_type": "code",
   "execution_count": 118,
   "metadata": {
    "code_folding": [
     1
    ]
   },
   "outputs": [],
   "source": [
    "#write name to the csv file\n",
    "def write(name):\n",
    "    path = 'names.csv'\n",
    "    new_name = []\n",
    "    new_name.append(name)\n",
    "    with open(path, 'a') as file:\n",
    "        writer = csv.writer(file)\n",
    "        writer.writerow(new_name)"
   ]
  },
  {
   "cell_type": "code",
   "execution_count": 98,
   "metadata": {
    "code_folding": [
     3
    ]
   },
   "outputs": [],
   "source": [
    "#check if user face already exist\n",
    "#return true if exist\n",
    "#return false and creat new user's temperature file\n",
    "def check(name, userList):\n",
    "    if name in userList:\n",
    "        return True\n",
    "    else:\n",
    "        userList.append(name)\n",
    "        write(name) #write to csv\n",
    "        f= open('Temperature Recordings/' + name + '.txt', \"w+\")\n",
    "        f.close()\n",
    "        return False"
   ]
  },
  {
   "cell_type": "code",
   "execution_count": 99,
   "metadata": {
    "code_folding": [
     2
    ]
   },
   "outputs": [],
   "source": [
    "# open the camera and capture the face\n",
    "# store the captured face in the dataset file\n",
    "def capture(userList):\n",
    "    #get the index of the user in the user list\n",
    "    userID = 0; \n",
    "    if len(userList) == 0:\n",
    "        userID = len(userList) \n",
    "    else:\n",
    "        userID = len(userList) - 1\n",
    "    #initialize and set camera\n",
    "    cam = cv2.VideoCapture(0)\n",
    "    cam.set(3, 640) # set video width\n",
    "    cam.set(4, 480) # set video height\n",
    "\n",
    "    face_detector = cv2.CascadeClassifier('haarcascade_frontalface_default.xml')    \n",
    "    count = 0 #count the number of captured image\n",
    "    while(True):\n",
    "        ret, img = cam.read()\n",
    "        gray = cv2.cvtColor(img, cv2.COLOR_BGR2GRAY)\n",
    "        faces = face_detector.detectMultiScale(gray, 1.3, 5)\n",
    "        #show the face area\n",
    "        for (x,y,w,h) in faces:\n",
    "            cv2.rectangle(img, (x,y), (x+w,y+h), (255,0,0), 2)     \n",
    "            count += 1\n",
    "            # Save the captured image into the datasets folder\n",
    "            cv2.imwrite(\"dataset/User.\" + str(userID) + '.' + str(count) + \".jpg\", gray[y:y+h,x:x+w])\n",
    "            cv2.imshow('image', img)\n",
    "        k = cv2.waitKey(100) & 0xff # Press 'ESC' for exiting video\n",
    "        if k == 27:\n",
    "            break\n",
    "        elif count >= 30: # Take 30 face sample and stop video\n",
    "            break"
   ]
  },
  {
   "cell_type": "code",
   "execution_count": 100,
   "metadata": {
    "code_folding": [
     1
    ]
   },
   "outputs": [],
   "source": [
    "# train the collected faces\n",
    "def train():\n",
    "    path = 'dataset' #path to the training dataset\n",
    "    recognizer = cv2.face.LBPHFaceRecognizer_create()\n",
    "    detector = cv2.CascadeClassifier(\"haarcascade_frontalface_default.xml\");\n",
    "    # function to get the images and label data\n",
    "    def getImagesAndLabels(path):\n",
    "        imagePaths = [os.path.join(path,f) for f in os.listdir(path)]     \n",
    "        faceSamples=[]\n",
    "        ids = []\n",
    "        for imagePath in imagePaths:\n",
    "            PIL_img = Image.open(imagePath).convert('L') # convert it to grayscale\n",
    "            img_numpy = np.array(PIL_img,'uint8')\n",
    "            id = int(os.path.split(imagePath)[-1].split(\".\")[1])\n",
    "            faces = detector.detectMultiScale(img_numpy)\n",
    "            for (x,y,w,h) in faces:\n",
    "                faceSamples.append(img_numpy[y:y+h,x:x+w])\n",
    "                ids.append(id)\n",
    "        return faceSamples,ids\n",
    "    \n",
    "    faces,ids = getImagesAndLabels(path)\n",
    "    recognizer.train(faces, np.array(ids))\n",
    "    # Save the model into trainer/trainer.yml\n",
    "    recognizer.write('trainer/trainer.yml') "
   ]
  },
  {
   "cell_type": "code",
   "execution_count": 101,
   "metadata": {
    "code_folding": []
   },
   "outputs": [],
   "source": [
    "# clean all the data \n",
    "def clean():\n",
    "    face_files = glob.glob('dataset/*.jpg')\n",
    "    temp_files = glob.glob('Temperature Recordings/*.txt')\n",
    "    trainer_file = glob.glob('trainer/*.yml')\n",
    "    #remove faces data\n",
    "    for face in face_files:\n",
    "        os.remove(face)\n",
    "    #remove temperature data\n",
    "    for temp in temp_files:\n",
    "        os.remove(temp)\n",
    "    for trainer in trainer_file:\n",
    "        os.remove(trainer)\n",
    "    #remove names data\n",
    "    f = open('names.csv', \"w+\")\n",
    "    f.truncate()\n",
    "    f.close()     "
   ]
  }
 ],
 "metadata": {
  "kernelspec": {
   "display_name": "Python 3",
   "language": "python",
   "name": "python3"
  },
  "language_info": {
   "codemirror_mode": {
    "name": "ipython",
    "version": 3
   },
   "file_extension": ".py",
   "mimetype": "text/x-python",
   "name": "python",
   "nbconvert_exporter": "python",
   "pygments_lexer": "ipython3",
   "version": "3.8.3"
  },
  "toc": {
   "base_numbering": 1,
   "nav_menu": {},
   "number_sections": true,
   "sideBar": true,
   "skip_h1_title": false,
   "title_cell": "Table of Contents",
   "title_sidebar": "Contents",
   "toc_cell": false,
   "toc_position": {},
   "toc_section_display": true,
   "toc_window_display": false
  }
 },
 "nbformat": 4,
 "nbformat_minor": 4
}
